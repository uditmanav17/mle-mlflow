{
 "cells": [
  {
   "cell_type": "markdown",
   "metadata": {},
   "source": [
    "# Reviewing a simple sklearn model"
   ]
  },
  {
   "cell_type": "code",
   "execution_count": null,
   "metadata": {},
   "outputs": [],
   "source": [
    "import os\n",
    "\n",
    "os.environ[\"MLFLOW_TRACKING_URI\"] = \"http://localhost:5000\"\n",
    "print(os.environ.get(\"MLFLOW_TRACKING_URI\"))"
   ]
  },
  {
   "cell_type": "code",
   "execution_count": null,
   "metadata": {},
   "outputs": [],
   "source": [
    "# flatten the images\n",
    "from sklearn import datasets, svm, metrics\n",
    "from sklearn.model_selection import train_test_split\n",
    "import mlflow\n",
    "from sklearn.datasets import load_digits"
   ]
  },
  {
   "cell_type": "code",
   "execution_count": null,
   "metadata": {},
   "outputs": [],
   "source": [
    "digits = load_digits()"
   ]
  },
  {
   "cell_type": "code",
   "execution_count": null,
   "metadata": {},
   "outputs": [],
   "source": [
    "n_samples = len(digits.images)\n",
    "data = digits.images.reshape((n_samples, -1))\n",
    "\n",
    "# Create a classifier: a support vector classifier\n",
    "clf = svm.SVC(gamma=0.003)\n",
    "\n",
    "# Split data into 50% train and 50% test subsets\n",
    "X_train, X_test, y_train, y_test = train_test_split(\n",
    "    data, digits.target, test_size=0.5, shuffle=False\n",
    ")\n",
    "\n",
    "print(X_train.shape, X_test.shape, y_train.shape, y_test.shape)"
   ]
  },
  {
   "cell_type": "code",
   "execution_count": null,
   "metadata": {},
   "outputs": [],
   "source": [
    "# enable autologging\n",
    "mlflow.sklearn.autolog()\n",
    "\n",
    "# Learn the digits on the train subset\n",
    "with mlflow.start_run():\n",
    "    clf.fit(X_train, y_train)\n"
   ]
  },
  {
   "cell_type": "markdown",
   "metadata": {},
   "source": [
    "## Artifact file\n",
    "```\n",
    "artifact_path: model\n",
    "flavors:\n",
    "  python_function:\n",
    "    env: conda.yaml\n",
    "    loader_module: mlflow.sklearn\n",
    "    model_path: model.pkl\n",
    "    python_version: 3.7.6\n",
    "  sklearn:\n",
    "    pickled_model: model.pkl\n",
    "    serialization_format: cloudpickle\n",
    "    sklearn_version: 0.22.2.post1\n",
    "run_id: 57d4216eeea1499c8607b1d3f6265775\n",
    "signature:\n",
    "  inputs: '[{\"type\": \"double\"}, {\"type\": \"double\"}, {\"type\": \"double\"}, {\"type\": \"double\"},\n",
    "    {\"type\": \"double\"}, {\"type\": \"double\"}, {\"type\": \"double\"}, {\"type\": \"double\"},\n",
    "    {\"type\": \"double\"}, {\"type\": \"double\"}, {\"type\": \"double\"}, {\"type\": \"double\"},\n",
    "    {\"type\": \"double\"}, {\"type\": \"double\"}, {\"type\": \"double\"}, {\"type\": \"double\"},\n",
    "    {\"type\": \"double\"}, {\"type\": \"double\"}, {\"type\": \"double\"}, {\"type\": \"double\"},\n",
    "    {\"type\": \"double\"}, {\"type\": \"double\"}, {\"type\": \"double\"}, {\"type\": \"double\"},\n",
    "    {\"type\": \"double\"}, {\"type\": \"double\"}, {\"type\": \"double\"}, {\"type\": \"double\"}]'\n",
    "  outputs: '[{\"type\": \"long\"}]'\n",
    "utc_time_created: '2021-03-11 19:28:54.202276'\n",
    "```"
   ]
  },
  {
   "cell_type": "markdown",
   "metadata": {},
   "source": [
    "## Capturing input schema"
   ]
  },
  {
   "cell_type": "code",
   "execution_count": null,
   "metadata": {},
   "outputs": [],
   "source": [
    "import mlflow\n",
    "import mlflow.sklearn\n",
    "from mlflow.models import infer_signature\n",
    "from sklearn.datasets import load_iris\n",
    "from sklearn import tree\n",
    "\n",
    "mlflow.set_experiment(\"Infer Siganture on DT\")\n",
    "with mlflow.start_run(run_name='dt_model_baseline') as run:\n",
    "    iris = load_iris()\n",
    "    sk_model = tree.DecisionTreeClassifier()\n",
    "    sk_model = sk_model.fit(iris.data, iris.target)\n",
    "\n",
    "    # log model params\n",
    "    mlflow.log_param(\"criterion\", sk_model.criterion)\n",
    "    mlflow.log_param(\"splitter\", sk_model.splitter)\n",
    "    signature = infer_signature(iris.data, sk_model.predict(iris.data))\n",
    "\n",
    "    # log model\n",
    "    mlflow.sklearn.log_model(sk_model, \"sk_models\", signature=signature)\n"
   ]
  },
  {
   "cell_type": "code",
   "execution_count": null,
   "metadata": {},
   "outputs": [],
   "source": []
  }
 ],
 "metadata": {
  "kernelspec": {
   "display_name": "mle-mlflow",
   "language": "python",
   "name": "python3"
  },
  "language_info": {
   "codemirror_mode": {
    "name": "ipython",
    "version": 3
   },
   "file_extension": ".py",
   "mimetype": "text/x-python",
   "name": "python",
   "nbconvert_exporter": "python",
   "pygments_lexer": "ipython3",
   "version": "3.10.13"
  },
  "toc": {
   "base_numbering": 1,
   "nav_menu": {},
   "number_sections": true,
   "sideBar": true,
   "skip_h1_title": false,
   "title_cell": "Table of Contents",
   "title_sidebar": "Contents",
   "toc_cell": false,
   "toc_position": {},
   "toc_section_display": true,
   "toc_window_display": false
  }
 },
 "nbformat": 4,
 "nbformat_minor": 4
}
