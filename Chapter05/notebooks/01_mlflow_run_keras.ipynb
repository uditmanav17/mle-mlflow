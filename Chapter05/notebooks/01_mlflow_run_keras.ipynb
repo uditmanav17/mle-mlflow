{
 "cells": [
  {
   "cell_type": "markdown",
   "metadata": {},
   "source": [
    "# Import dependencies"
   ]
  },
  {
   "cell_type": "code",
   "execution_count": 1,
   "metadata": {},
   "outputs": [],
   "source": [
    "import pandas\n",
    "import numpy as np\n",
    "import mlflow\n",
    "import tensorflow\n",
    "from tensorflow import keras\n",
    "import mlflow.keras\n",
    "from sklearn.metrics import f1_score,confusion_matrix\n",
    "from sklearn.model_selection import train_test_split"
   ]
  },
  {
   "cell_type": "code",
   "execution_count": 2,
   "metadata": {},
   "outputs": [
    {
     "name": "stdout",
     "output_type": "stream",
     "text": [
      "http://localhost:5000\n"
     ]
    }
   ],
   "source": [
    "import os\n",
    "\n",
    "os.environ[\"MLFLOW_TRACKING_URI\"] = \"http://localhost:5000\"\n",
    "print(os.environ.get(\"MLFLOW_TRACKING_URI\"))"
   ]
  },
  {
   "cell_type": "markdown",
   "metadata": {},
   "source": [
    "# Retrieve Data"
   ]
  },
  {
   "cell_type": "code",
   "execution_count": 3,
   "metadata": {},
   "outputs": [],
   "source": [
    "pandas_df = pandas.read_csv(\"../../Chapter04/gradflow/notebooks/training_data.csv\")\n",
    "X=pandas_df.iloc[:,:-1]\n",
    "Y=pandas_df.iloc[:,-1]\n",
    "X_train, X_test, y_train, y_test = train_test_split(X, Y, test_size=0.33, random_state=4284, stratify=Y)"
   ]
  },
  {
   "cell_type": "markdown",
   "metadata": {},
   "source": [
    "# Run the Model"
   ]
  },
  {
   "cell_type": "code",
   "execution_count": 4,
   "metadata": {
    "collapsed": true,
    "jupyter": {
     "outputs_hidden": true
    }
   },
   "outputs": [
    {
     "name": "stderr",
     "output_type": "stream",
     "text": [
      "2024/11/09 18:56:37 INFO mlflow.tracking.fluent: Experiment with name 'Baseline_Predictions_Mlflow_Check' does not exist. Creating a new experiment.\n",
      "c:\\Users\\uditm\\miniconda3\\envs\\mle-mlflow\\lib\\site-packages\\keras\\optimizers\\optimizer_v2\\adam.py:114: UserWarning: The `lr` argument is deprecated, use `learning_rate` instead.\n",
      "  super().__init__(name, **kwargs)\n",
      "2024/11/09 18:56:39 WARNING mlflow.tensorflow: Unrecognized dataset type <class 'pandas.core.frame.DataFrame'>. Dataset logging skipped.\n"
     ]
    },
    {
     "name": "stdout",
     "output_type": "stream",
     "text": [
      "Epoch 1/20\n",
      " 1/46 [..............................] - ETA: 59s - loss: 0.8683 - Accuracy: 0.5000WARNING:tensorflow:Callback method `on_train_batch_end` is slow compared to the batch time (batch time: 0.0025s vs `on_train_batch_end` time: 0.0440s). Check your callbacks.\n",
      "46/46 [==============================] - 2s 26ms/step - loss: 0.8057 - Accuracy: 0.4835 - val_loss: 0.6946 - val_Accuracy: 0.5974\n",
      "Epoch 2/20\n",
      "46/46 [==============================] - 0s 9ms/step - loss: 0.7319 - Accuracy: 0.5186 - val_loss: 0.6858 - val_Accuracy: 0.5974\n",
      "Epoch 3/20\n",
      "46/46 [==============================] - 0s 10ms/step - loss: 0.7067 - Accuracy: 0.5379 - val_loss: 0.6832 - val_Accuracy: 0.5974\n",
      "Epoch 4/20\n",
      "46/46 [==============================] - 0s 5ms/step - loss: 0.6957 - Accuracy: 0.5599 - val_loss: 0.6839 - val_Accuracy: 0.5584\n",
      "Epoch 5/20\n",
      "46/46 [==============================] - 0s 5ms/step - loss: 0.6914 - Accuracy: 0.5668 - val_loss: 0.6872 - val_Accuracy: 0.5584\n",
      "Epoch 6/20\n",
      "46/46 [==============================] - 0s 4ms/step - loss: 0.6836 - Accuracy: 0.5771 - val_loss: 0.6882 - val_Accuracy: 0.5065\n",
      "Epoch 7/20\n",
      "46/46 [==============================] - 0s 4ms/step - loss: 0.6789 - Accuracy: 0.5916 - val_loss: 0.6909 - val_Accuracy: 0.4935\n",
      "Epoch 8/20\n",
      "46/46 [==============================] - 0s 10ms/step - loss: 0.6799 - Accuracy: 0.5806 - val_loss: 0.6962 - val_Accuracy: 0.4935\n",
      "Epoch 9/20\n",
      "46/46 [==============================] - 0s 8ms/step - loss: 0.6782 - Accuracy: 0.5923 - val_loss: 0.6947 - val_Accuracy: 0.4935\n",
      "Epoch 10/20\n",
      "46/46 [==============================] - 0s 7ms/step - loss: 0.6736 - Accuracy: 0.5840 - val_loss: 0.7021 - val_Accuracy: 0.5065\n",
      "Epoch 11/20\n",
      "46/46 [==============================] - 0s 7ms/step - loss: 0.6740 - Accuracy: 0.5944 - val_loss: 0.6992 - val_Accuracy: 0.5325\n",
      "Epoch 12/20\n",
      "46/46 [==============================] - 0s 5ms/step - loss: 0.6700 - Accuracy: 0.5950 - val_loss: 0.7016 - val_Accuracy: 0.5455\n",
      "Epoch 13/20\n",
      "46/46 [==============================] - 0s 6ms/step - loss: 0.6686 - Accuracy: 0.5930 - val_loss: 0.6996 - val_Accuracy: 0.5325\n",
      "Epoch 14/20\n",
      "46/46 [==============================] - 0s 6ms/step - loss: 0.6628 - Accuracy: 0.5971 - val_loss: 0.6998 - val_Accuracy: 0.5325\n",
      "Epoch 15/20\n",
      "46/46 [==============================] - 0s 5ms/step - loss: 0.6683 - Accuracy: 0.5895 - val_loss: 0.6994 - val_Accuracy: 0.5195\n",
      "Epoch 16/20\n",
      "46/46 [==============================] - 0s 5ms/step - loss: 0.6595 - Accuracy: 0.6040 - val_loss: 0.6967 - val_Accuracy: 0.5584\n",
      "Epoch 17/20\n",
      "46/46 [==============================] - 0s 8ms/step - loss: 0.6631 - Accuracy: 0.6033 - val_loss: 0.6952 - val_Accuracy: 0.5455\n",
      "Epoch 18/20\n",
      "46/46 [==============================] - 0s 6ms/step - loss: 0.6592 - Accuracy: 0.6095 - val_loss: 0.6990 - val_Accuracy: 0.5584\n",
      "Epoch 19/20\n",
      "46/46 [==============================] - 0s 5ms/step - loss: 0.6586 - Accuracy: 0.6123 - val_loss: 0.6957 - val_Accuracy: 0.5325\n",
      "Epoch 20/20\n",
      "46/46 [==============================] - 0s 4ms/step - loss: 0.6553 - Accuracy: 0.6157 - val_loss: 0.6973 - val_Accuracy: 0.5325\n"
     ]
    },
    {
     "name": "stderr",
     "output_type": "stream",
     "text": [
      "2024/11/09 18:56:48 WARNING mlflow.tensorflow: Failed to infer model signature: could not sample data to infer model signature: Cannot log input example or model signature for input with type <class 'pandas.core.frame.DataFrame'>. TensorFlow Keras autologging can only log input examples and model signatures for the following input types: numpy.ndarray, dict[string -> numpy.ndarray], tensorflow.keras.utils.Sequence, and tensorflow.data.Dataset (TensorFlow >= 2.1.0 required)\n",
      "2024/11/09 18:56:48 WARNING mlflow.tensorflow: You are saving a TensorFlow Core model or Keras model without a signature. Inference with mlflow.pyfunc.spark_udf() will not work unless the model's pyfunc representation accepts pandas DataFrames as inference inputs.\n"
     ]
    },
    {
     "name": "stdout",
     "output_type": "stream",
     "text": [
      "INFO:tensorflow:Assets written to: C:\\Users\\uditm\\AppData\\Local\\Temp\\tmpb4fw2lc0\\model\\data\\model\\assets\n"
     ]
    },
    {
     "name": "stderr",
     "output_type": "stream",
     "text": [
      "2024/11/09 18:57:01 WARNING mlflow.models.model: Model logged without a signature and input example. Please set `input_example` parameter when logging the model to auto infer the model signature.\n",
      "2024/11/09 18:57:02 INFO mlflow.tracking._tracking_service.client: 🏃 View run keras_model_baseline at: http://localhost:5000/#/experiments/3/runs/3a07317e99844fc6a065e8ae73119577.\n",
      "2024/11/09 18:57:02 INFO mlflow.tracking._tracking_service.client: 🧪 View experiment at: http://localhost:5000/#/experiments/3.\n"
     ]
    }
   ],
   "source": [
    "\n",
    "mlflow.set_experiment(\"Baseline_Predictions_Mlflow_Check\")\n",
    "mlflow.tensorflow.autolog()\n",
    "\n",
    "model = keras.Sequential([\n",
    "  keras.layers.Dense(\n",
    "    units=36,\n",
    "    activation='relu',\n",
    "    input_shape=(X_train.shape[-1],)\n",
    "  ),\n",
    "  keras.layers.BatchNormalization(),\n",
    "  keras.layers.Dense(units=1, activation='sigmoid'),\n",
    "])\n",
    "\n",
    "model.compile(\n",
    "  optimizer=keras.optimizers.Adam(lr=0.001),\n",
    "  loss=\"binary_crossentropy\",\n",
    "  metrics=\"Accuracy\"\n",
    ")\n",
    "\n",
    "with mlflow.start_run(run_name='keras_model_baseline') as run:\n",
    "  run_id = run.info.run_id\n",
    "  model.fit(X_train, y_train, epochs=20, validation_split=0.05, shuffle=True, verbose=True)\n"
   ]
  },
  {
   "cell_type": "code",
   "execution_count": 5,
   "metadata": {},
   "outputs": [
    {
     "name": "stderr",
     "output_type": "stream",
     "text": [
      "c:\\Users\\uditm\\miniconda3\\envs\\mle-mlflow\\lib\\site-packages\\tqdm\\auto.py:21: TqdmWarning: IProgress not found. Please update jupyter and ipywidgets. See https://ipywidgets.readthedocs.io/en/stable/user_install.html\n",
      "  from .autonotebook import tqdm as notebook_tqdm\n",
      "Downloading artifacts: 100%|██████████| 10/10 [00:00<00:00, 372.93it/s]\n"
     ]
    },
    {
     "name": "stdout",
     "output_type": "stream",
     "text": [
      "24/24 [==============================] - 0s 2ms/step\n"
     ]
    },
    {
     "data": {
      "text/html": [
       "<div>\n",
       "<style scoped>\n",
       "    .dataframe tbody tr th:only-of-type {\n",
       "        vertical-align: middle;\n",
       "    }\n",
       "\n",
       "    .dataframe tbody tr th {\n",
       "        vertical-align: top;\n",
       "    }\n",
       "\n",
       "    .dataframe thead th {\n",
       "        text-align: right;\n",
       "    }\n",
       "</style>\n",
       "<table border=\"1\" class=\"dataframe\">\n",
       "  <thead>\n",
       "    <tr style=\"text-align: right;\">\n",
       "      <th></th>\n",
       "      <th>0</th>\n",
       "    </tr>\n",
       "  </thead>\n",
       "  <tbody>\n",
       "    <tr>\n",
       "      <th>1496</th>\n",
       "      <td>0.434152</td>\n",
       "    </tr>\n",
       "    <tr>\n",
       "      <th>253</th>\n",
       "      <td>0.454494</td>\n",
       "    </tr>\n",
       "    <tr>\n",
       "      <th>1716</th>\n",
       "      <td>0.460266</td>\n",
       "    </tr>\n",
       "    <tr>\n",
       "      <th>41</th>\n",
       "      <td>0.518043</td>\n",
       "    </tr>\n",
       "    <tr>\n",
       "      <th>2232</th>\n",
       "      <td>0.737744</td>\n",
       "    </tr>\n",
       "    <tr>\n",
       "      <th>...</th>\n",
       "      <td>...</td>\n",
       "    </tr>\n",
       "    <tr>\n",
       "      <th>1066</th>\n",
       "      <td>0.366815</td>\n",
       "    </tr>\n",
       "    <tr>\n",
       "      <th>1738</th>\n",
       "      <td>0.632139</td>\n",
       "    </tr>\n",
       "    <tr>\n",
       "      <th>943</th>\n",
       "      <td>0.508739</td>\n",
       "    </tr>\n",
       "    <tr>\n",
       "      <th>446</th>\n",
       "      <td>0.709060</td>\n",
       "    </tr>\n",
       "    <tr>\n",
       "      <th>1023</th>\n",
       "      <td>0.549379</td>\n",
       "    </tr>\n",
       "  </tbody>\n",
       "</table>\n",
       "<p>754 rows × 1 columns</p>\n",
       "</div>"
      ],
      "text/plain": [
       "             0\n",
       "1496  0.434152\n",
       "253   0.454494\n",
       "1716  0.460266\n",
       "41    0.518043\n",
       "2232  0.737744\n",
       "...        ...\n",
       "1066  0.366815\n",
       "1738  0.632139\n",
       "943   0.508739\n",
       "446   0.709060\n",
       "1023  0.549379\n",
       "\n",
       "[754 rows x 1 columns]"
      ]
     },
     "execution_count": 5,
     "metadata": {},
     "output_type": "execute_result"
    }
   ],
   "source": [
    "import mlflow\n",
    "\n",
    "logged_model = f'runs:/{run_id}/model'\n",
    "\n",
    "# Load model as a PyFuncModel.\n",
    "loaded_model = mlflow.pyfunc.load_model(logged_model)\n",
    "\n",
    "# Predict on a Pandas DataFrame.\n",
    "import pandas as pd\n",
    "loaded_model.predict(pd.DataFrame(X_test))"
   ]
  },
  {
   "cell_type": "code",
   "execution_count": null,
   "metadata": {},
   "outputs": [],
   "source": []
  }
 ],
 "metadata": {
  "kernelspec": {
   "display_name": "mle-mlflow",
   "language": "python",
   "name": "python3"
  },
  "language_info": {
   "codemirror_mode": {
    "name": "ipython",
    "version": 3
   },
   "file_extension": ".py",
   "mimetype": "text/x-python",
   "name": "python",
   "nbconvert_exporter": "python",
   "pygments_lexer": "ipython3",
   "version": "3.10.13"
  },
  "toc": {
   "base_numbering": 1,
   "nav_menu": {},
   "number_sections": true,
   "sideBar": true,
   "skip_h1_title": false,
   "title_cell": "Table of Contents",
   "title_sidebar": "Contents",
   "toc_cell": false,
   "toc_position": {},
   "toc_section_display": true,
   "toc_window_display": false
  }
 },
 "nbformat": 4,
 "nbformat_minor": 4
}
